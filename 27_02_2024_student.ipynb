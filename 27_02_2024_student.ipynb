{
  "nbformat": 4,
  "nbformat_minor": 0,
  "metadata": {
    "colab": {
      "provenance": [],
      "authorship_tag": "ABX9TyNh9jEQySF2mW/F/zt/oXpC",
      "include_colab_link": true
    },
    "kernelspec": {
      "name": "python3",
      "display_name": "Python 3"
    },
    "language_info": {
      "name": "python"
    }
  },
  "cells": [
    {
      "cell_type": "markdown",
      "metadata": {
        "id": "view-in-github",
        "colab_type": "text"
      },
      "source": [
        "<a href=\"https://colab.research.google.com/github/alcome1614/proj_num/blob/main/27_02_2024_student.ipynb\" target=\"_parent\"><img src=\"https://colab.research.google.com/assets/colab-badge.svg\" alt=\"Open In Colab\"/></a>"
      ]
    },
    {
      "cell_type": "code",
      "execution_count": null,
      "metadata": {
        "id": "yvLrbxXWaNb8"
      },
      "outputs": [],
      "source": [
        "import numpy as np\n",
        "import matplotlib.pyplot as plt"
      ]
    },
    {
      "cell_type": "markdown",
      "source": [
        "# Monte Carlo Methods\n",
        "\n",
        "\n",
        "Monte Carlo methods or experiments are a broad class of computational algorithms that rely on repeated random sampling to obtain numerical results.\n",
        "\n",
        "[More information.](https://en.wikipedia.org/wiki/Monte_Carlo_method)\n",
        "\n",
        "\n",
        "\n",
        "We will start by making an easy example.\n",
        "\n",
        "## **Exercise**\n",
        "\n",
        "Use random numbers to calculate $\\pi$.\n",
        "\n",
        "a) What is the ratio $\\frac{A_c}{A_s}$ between the area of a circle of radius $a=1$ and a square of side $c=1$?\n",
        "\n",
        "b) Generate $N$ points $\\vec{r}_i = (x_i, y_i)$ with $x_i,y_i \\in (-1,1)$.\n",
        "\n",
        "Count how many points $\\vec{r}_i$ are inside of a circle of radius $a=1$ with center at the origin $\\vec{r}_c = (0,0)$.\n",
        "\n",
        "Use the ratio to calculate $\\pi$ numerically."
      ],
      "metadata": {
        "id": "bjtGdPj8gEfP"
      }
    },
    {
      "cell_type": "code",
      "source": [
        "#code"
      ],
      "metadata": {
        "id": "0IsheCoegD0c"
      },
      "execution_count": null,
      "outputs": []
    },
    {
      "cell_type": "markdown",
      "source": [
        "# Random walks\n",
        "\n",
        "Let us consider a random walker in a 1D lattice in discrete time.\n",
        "\n",
        "At each timestep it can jump to the right with probability $p$ and to the left with probability $q=1-p$.\n",
        "\n",
        "Which means that we can update its position at timestep $N$ as follows:\n",
        "\n",
        "$x_{N+1} = x_{N} + \\Delta x_N$\n",
        "\n",
        "where $\\Delta x$ is binary random variable that can take the values ${\\pm \\Delta x}$ with probabilities $q,p$ respectively.  \n",
        "\n",
        "After $N$ timesteps the position of our walker will be:\n",
        "\n",
        "Let us call $x_N = x_0 + \\sum_{k=1}^{N} \\Delta x_k$.\n",
        "\n",
        "here ${\\Delta x_k}$ are independent form each other.\n",
        "\n",
        "So that $< \\Delta x_k \\Delta x_l > = (\\Delta x)^2\\delta _{kl}  $\n",
        "\n",
        "\n",
        "## **Exercise**\n",
        "\n",
        "Generate a trajectory of $N=1000$ timesteps for 1 random walkers and plot the trajectory.\n",
        "\n",
        "Use $x_0 = 0, \\quad p=q=0.5 \\quad |\\Delta x| = 1$."
      ],
      "metadata": {
        "id": "cws1hvomaq03"
      }
    },
    {
      "cell_type": "code",
      "source": [
        "#code"
      ],
      "metadata": {
        "id": "XBHi7R6MVsl8"
      },
      "execution_count": null,
      "outputs": []
    },
    {
      "cell_type": "markdown",
      "source": [
        "## **Exercise**\n",
        "\n",
        "Do the same for $n=1000$ random walkers. Save the trajectoreis in an array of dimension $(N,n)$.\n",
        "\n",
        "Compute the $<x_k>$. That is the average position after $k$ timesteps  (with $k \\in (0,N)$) over the $n$ walkers.\n",
        "\n",
        "Plot $<x_k>$ vs $k$. This is the average trajectory."
      ],
      "metadata": {
        "id": "5HyQxvFRVtmj"
      }
    },
    {
      "cell_type": "code",
      "source": [
        "#code"
      ],
      "metadata": {
        "id": "qLq9sQOadHbQ"
      },
      "execution_count": null,
      "outputs": []
    },
    {
      "cell_type": "markdown",
      "source": [
        "\n",
        "## **Exercise**\n",
        "\n",
        "We can define the mean square displacement (MSD) as the distance from the initial position:\n",
        "\n",
        "$<(x_N - x_0)^2> = < (\\sum_{k=1}^{N} \\Delta x_k )^2> = <(\\sum_{k=1}^{N} \\Delta x_k )(\\sum_{l=1}^{N} \\Delta x_l )> = \\sum_{k=1}^{N} \\sum_{l=1}^{N} <\\Delta x_k \\Delta x_l> =  \\sum_{k=1}^{N} \\sum_{l=1}^{N} (\\Delta x)^2 \\delta _{kl} = (\\Delta x)^2  \\sum_{k=1}^{N} 1 = N (\\Delta x)^2$\n",
        "\n",
        "Check that this is correct by computing the mean square displacement for your the same system of walkers."
      ],
      "metadata": {
        "id": "jfpY9qseTqxc"
      }
    },
    {
      "cell_type": "code",
      "source": [
        "#code"
      ],
      "metadata": {
        "id": "APR9hAHoaqXM"
      },
      "execution_count": null,
      "outputs": []
    }
  ]
}