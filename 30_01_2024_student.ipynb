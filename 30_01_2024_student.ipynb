{
  "nbformat": 4,
  "nbformat_minor": 0,
  "metadata": {
    "colab": {
      "provenance": [],
      "authorship_tag": "ABX9TyPXxLE3cXAdZrd7XJT21d1d",
      "include_colab_link": true
    },
    "kernelspec": {
      "name": "python3",
      "display_name": "Python 3"
    },
    "language_info": {
      "name": "python"
    }
  },
  "cells": [
    {
      "cell_type": "markdown",
      "metadata": {
        "id": "view-in-github",
        "colab_type": "text"
      },
      "source": [
        "<a href=\"https://colab.research.google.com/github/alcome1614/proj_num/blob/main/30_01_2024_student.ipynb\" target=\"_parent\"><img src=\"https://colab.research.google.com/assets/colab-badge.svg\" alt=\"Open In Colab\"/></a>"
      ]
    },
    {
      "cell_type": "code",
      "execution_count": null,
      "metadata": {
        "id": "I0UDwivibz-r"
      },
      "outputs": [],
      "source": [
        "#library imports\n",
        "import numpy as np\n",
        "import matplotlib.pyplot as plt"
      ]
    },
    {
      "cell_type": "markdown",
      "source": [
        "# Reminder of the Verlet method scheme\n",
        "\n",
        "$$x(t+s) = 2x(t) - x(t-s) + s^2 a(t)$$\n",
        "\n",
        "$$x(t) = 2x(t-s) - x(t-2s) + s^2 a(t-s)$$\n",
        "\n",
        "In order to compute the velocity we use:\n",
        "\n",
        "$$ v(t) = \\dfrac{x(t+s)-x(t-s)}{2s}$$\n",
        "\n",
        "Notice that we need a point in the timestep $t+s$ to compute the velocity at $t$ ($v(t)$)."
      ],
      "metadata": {
        "id": "DYog0S_7ekhe"
      }
    },
    {
      "cell_type": "code",
      "source": [
        "#Model parameters\n",
        "k = 1\n",
        "m = 1\n",
        "\n",
        "#Integration parameters\n",
        "N_steps = 10000\n",
        "dt = 0.01\n",
        "\n",
        "#Initialization of variables\n",
        "t = np.zeros(N_steps+2)\n",
        "x = np.zeros(N_steps+2)\n",
        "v = np.zeros(N_steps+2)\n",
        "a = np.zeros(N_steps+2)\n",
        "E = np.zeros(N_steps+2)\n",
        "\n",
        "#Initial conditions\n",
        "x[1] = 1\n",
        "v[1] = 0\n",
        "x[0] = x[1] - v[1]*dt\n",
        "E[1] = 0.5*v[1]**2 + 0.5*x[1]**2\n",
        "\n",
        "#Integration steps\n",
        "for i_t in range(2,N_steps+2):\n",
        "  a[i_t-1] = - k/m* x[i_t-1]\n",
        "  t[i_t] = t[i_t-1] + dt\n",
        "  x[i_t] = 2*x[i_t-1] - x[i_t -2] + dt**2 * a[i_t-1]\n",
        "\n",
        "for i_t in range(2,N_steps+1):\n",
        "  v[i_t] = (x[i_t+1] - x[i_t-1])/(2*dt)\n",
        "  E[i_t] = 0.5*v[i_t]**2 + 0.5*x[i_t]**2\n",
        "\n",
        "#Plotting\n",
        "plt.plot(t,x, label=\"x\")\n",
        "plt.plot(t,v, label=\"v\")\n",
        "# plt.ylabel(\"x\")\n",
        "plt.xlabel(\"t\")\n",
        "plt.legend()\n",
        "plt.show()\n",
        "\n",
        "plt.plot(t[1:-1],E[1:-1])\n",
        "plt.ylabel(\"E\")\n",
        "plt.xlabel(\"t\")\n",
        "plt.ylim(bottom=0, top=1)\n",
        "plt.show()\n",
        "\n",
        "plt.plot(x[1:-1],m*v[1:-1])\n",
        "plt.xlabel(\"x\")\n",
        "plt.ylabel(\"p\")\n",
        "plt.show()"
      ],
      "metadata": {
        "id": "AiZBbNMEkSI4"
      },
      "execution_count": null,
      "outputs": []
    },
    {
      "cell_type": "markdown",
      "source": [
        "# Verlet Method (Velocities variant)\n",
        "\n",
        "This method is equivalent to the standard we have already introduced.\n",
        "\n",
        "$$\n",
        "\\begin{eqnarray}\n",
        "x(t+h) & = & x(t) + h v(t) + \\dfrac{h^2}{2} a(t) \\\\\n",
        "v(t+h) & = & v(t) + h\\dfrac{a(t+h)+ a(t)}{2}\n",
        "\\end{eqnarray}\n",
        "$$\n",
        "\n",
        "As an **exercise** you should proof both are equivalent.\n",
        "\n",
        "Notice now we need only to know what happens at time $t$ to compute what happens at the next timestep $t+h$.\n",
        "\n",
        "\n",
        "Let's apply it now to the harmonic oscillator."
      ],
      "metadata": {
        "id": "af4ngKe1Oh90"
      }
    },
    {
      "cell_type": "code",
      "source": [],
      "metadata": {
        "id": "ozQRdnvjhxWN"
      },
      "execution_count": 1,
      "outputs": []
    },
    {
      "cell_type": "markdown",
      "source": [
        "# Lennard-Jones Potential\n",
        "\n",
        "$V_\\text{LJ} (r)= 4 \\epsilon \\Big[  \\left(\\dfrac{\\sigma}{r}\\right)^{12} - \\left(\\dfrac{\\sigma}{r}\\right)^{6} \\Big]$\n",
        "\n",
        "## Exercise\n",
        "\n",
        "Make a <code>function</code> that returns the Lennard-Jones potential as a function of $r, \\sigma, \\epsilon$.\n"
      ],
      "metadata": {
        "id": "ZMTrNAw2Q_W8"
      }
    },
    {
      "cell_type": "code",
      "source": [],
      "metadata": {
        "id": "FCuE2r6dQ3Ec"
      },
      "execution_count": 1,
      "outputs": []
    },
    {
      "cell_type": "markdown",
      "source": [
        "\n",
        "## Exercise\n",
        "\n",
        "Using $\\epsilon=3$ plot different curves for the values following values $\\sigma \\in \\{0.5, 1.0, 1.5, 2\\}$. Use the interval $r \\in (0.1,5)$ and plot 100 points minimum per curve.\n",
        "\n",
        "Use <code>plt.ylim=((-6,24))</code>.\n",
        "\n",
        "What happens to the minimum with different $\\sigma$?\n",
        "\n"
      ],
      "metadata": {
        "id": "ppYy0mi5Z6nx"
      }
    },
    {
      "cell_type": "code",
      "source": [],
      "metadata": {
        "id": "sm7zcAjRUQry"
      },
      "execution_count": null,
      "outputs": []
    },
    {
      "cell_type": "markdown",
      "source": [
        "## Exercise\n",
        "\n",
        "Using $\\sigma= 1.5$ plot different curves for each value of $\\epsilon \\in \\{ 1,2,3,4\\}$. Use the interval $r \\in (0.1,5)$ and plot 100 points minimum per curve.\n",
        "\n",
        "Hint: Use <code>plt.ylim((-5,2))</code>\n",
        "\n",
        "What happens to the minium when differents $\\epsilon$?"
      ],
      "metadata": {
        "id": "y3E_XK_4YIOe"
      }
    },
    {
      "cell_type": "code",
      "source": [],
      "metadata": {
        "id": "xmil3y6RaSQu"
      },
      "execution_count": null,
      "outputs": []
    },
    {
      "cell_type": "markdown",
      "source": [
        "From now on we will use $\\sigma=1$ and $\\epsilon=1$ to simplify the expression of the potential.\n",
        "\n",
        "$$V_\\text{LJ} (r_{ij})= 4 \\Big[  \\left(\\dfrac{1}{r_{ij}}\\right)^{12} - \\left(\\dfrac{1}{r_{ij}}\\right)^{6} \\Big]$$\n",
        "\n",
        "Here $r_{ij}$ is the distance between particles <code>i,j</code>.\n",
        "\n",
        "#Force derivated from the Lennard-Jones potential\n",
        "\n",
        "It is a pair-potential that depends on the distance of the particles only. However the force that the particles is vectorial.\n",
        "\n",
        "This way the force that particle <code>i</code> receives from particle <code>j</code>.\n",
        "\n",
        "$$\\vec{f_{ij}}(\\vec{r_{ij}}) = 24 \\left[ \\dfrac{2}{r_{ij}^{14}}  - \\dfrac{1}{r_{ij}^{8}} \\right] \\vec{r_{ij}}$$\n",
        "\n",
        "where $\\vec{r_{ij}} = \\vec{r_i} - \\vec{r_j}$ and $r_{ij} = |\\vec{r_{ij}}|$.\n",
        "\n",
        "## Reminder\n",
        "\n",
        "Last week we used the harmonic oscillator to couple particles. That is also a pair potential.\n",
        "\n",
        "$$V_{h}(r_{ij}) = \\dfrac{k}{2} r_{ij}^2$$\n",
        "\n",
        "And the subsequent force that the particle <code>i</code> feels from the particle <code>j</code> is:\n",
        "\n",
        "$$\\vec{f_{ij}}(\\vec{r_{ij}}) = k  \\vec{r_{ij}} = k \\left( \\vec{r_i} - \\vec{r_j}\\right) = -k \\left( \\vec{r_j}-\\vec{r_i} \\right) $$\n",
        "\n",
        "\n",
        "# Exercise\n",
        "\n",
        "Make a code to simulate a system of $N$ particles that interact through the Lennard-Jones potential.\n",
        "\n",
        "Use <code>N=4</code> with initial positions:\n",
        "\n",
        "<code>x[1] = np.array([2,4,6,8])</code>\n",
        "<code>v[1] = np.array([0,0,0,0])</code>\n",
        "\n",
        "and mass:\n",
        "\n",
        "<code>m = [1,1,1,1]</code>\n",
        "\n",
        "\n",
        "Use the proper force(acceleration) and potential.\n",
        "\n",
        "- Plot the trajectories in space.\n",
        "- Plot the trajectories in phase space.\n",
        "- Plot the momentum vs time.\n",
        "- Plot the energy vs time.\n",
        "\n",
        "\n",
        "Hint: Modify the code that we used for $N$ oscillators coupled with each other using basic Verlet. Change the force and energy!  \n"
      ],
      "metadata": {
        "id": "1JcXrp2teR__"
      }
    },
    {
      "cell_type": "code",
      "source": [
        "#HARMONIC OSCILLATOR. CODE TO BE ADAPTED\n",
        "#Model parameters\n",
        "N = 4\n",
        "k = 1\n",
        "m = 9*np.random.rand(N)+1 #random numbers in [1,10]\n",
        "\n",
        "\n",
        "#Integration parameters\n",
        "N_steps = 10000\n",
        "dt = 0.01\n",
        "\n",
        "#Initialization of variables\n",
        "t = np.zeros(N_steps+2)\n",
        "x = np.zeros((N_steps+2,N))\n",
        "v = np.zeros((N_steps+2,N))\n",
        "a = np.zeros((N_steps+2,N))\n",
        "E = np.zeros((N_steps+2))\n",
        "\n",
        "#Initial conditions\n",
        "x[1] = 2*np.random.rand(N)-1 #random positions in the interval [-1,1]\n",
        "v[1] = np.zeros(N)\n",
        "x[0] = x[1] - v[1]*dt\n",
        "for i_n in range(N):\n",
        "  E[1] +=  0.5*m[i_n]*v[1, i_n]**2 #kinetic\n",
        "  for j_n in range(i_n,N):\n",
        "    E[1] += 0.5*k*(x[1,i_n] - x[1,j_n])**2 #potential\n",
        "\n",
        "\n",
        "#Integration steps\n",
        "for i_t in range(2,N_steps+2):\n",
        "\n",
        "  #compute accelerations\n",
        "  for i_n in range(N):\n",
        "    for j_n in range(N):\n",
        "      a[i_t-1, i_n] += -k/m[i_n]*(x[i_t-1,i_n] - x[i_t-1,j_n])\n",
        "  # if i_t < 10: print(f\"i_t-1: {i_t-1} a0:{a[i_t-1,0]} a1:{a[i_t-1,1]}\")\n",
        "\n",
        "  #update position\n",
        "  t[i_t] = t[i_t-1] + dt\n",
        "  for i_n in range(N):\n",
        "    x[i_t, i_n] = 2*x[i_t-1, i_n] - x[i_t -2, i_n] + dt**2 * a[i_t-1, i_n]\n",
        "#update speed and energy\n",
        "for i_t in range(2,N_steps+1):\n",
        "  for i_n in range(N):\n",
        "    v[i_t, i_n] = (x[i_t+1, i_n] - x[i_t-1, i_n])/(2*dt)\n",
        "    v[i_t, i_n] = (x[i_t+1, i_n] - x[i_t-1, i_n])/(2*dt)\n",
        "    E[i_t] +=  0.5*m[i_n]*v[i_t, i_n]**2 #kinetic\n",
        "\n",
        "    for j_n in range(i_n,N):\n",
        "      E[i_t] += 0.5*k*(x[i_t,i_n] - x[i_t,j_n])**2 #potential\n",
        "\n",
        "#Plotting\n",
        "for i_n in range(N):\n",
        "  plt.plot(t[1:-1],x[1:-1, i_n], label=f\"x_{i_n}\")\n",
        "plt.ylabel(\"x\")\n",
        "plt.xlabel(\"t\")\n",
        "plt.legend()\n",
        "plt.show()\n",
        "\n",
        "plt.plot(t[1:-1],E[1:-1])\n",
        "plt.ylabel(\"E\")\n",
        "plt.xlabel(\"t\")\n",
        "plt.ylim(bottom=0, top=7)\n",
        "plt.show()\n",
        "\n",
        "for i_n in range(N):\n",
        "  plt.plot(x[1:-1,i_n],m[i_n]*v[1:-1,i_n], label=f\"x_{i_n}\")\n",
        "plt.xlabel(\"x\")\n",
        "plt.ylabel(\"p\")\n",
        "plt.legend()\n",
        "plt.show()"
      ],
      "metadata": {
        "id": "CGieKz5Hvkdh"
      },
      "execution_count": null,
      "outputs": []
    },
    {
      "cell_type": "code",
      "source": [],
      "metadata": {
        "id": "u8rafCdcbaJY"
      },
      "execution_count": null,
      "outputs": []
    }
  ]
}